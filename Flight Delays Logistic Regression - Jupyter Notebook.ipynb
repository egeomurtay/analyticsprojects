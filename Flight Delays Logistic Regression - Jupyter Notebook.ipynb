{
 "cells": [
  {
   "cell_type": "code",
   "execution_count": 1,
   "metadata": {},
   "outputs": [],
   "source": [
    "import pandas as pd\n",
    "import numpy as np\n",
    "import matplotlib.pyplot as plt\n",
    "from sklearn.linear_model import LinearRegression\n",
    "from sklearn.metrics import r2_score\n",
    "import statsmodels.api as sm\n",
    "import seaborn as sn\n",
    "from sklearn.model_selection import train_test_split\n",
    "from sklearn import metrics\n",
    "from sklearn.model_selection import KFold\n",
    "from sklearn.preprocessing import MinMaxScaler\n",
    "from sklearn.svm import SVR\n"
   ]
  },
  {
   "cell_type": "code",
   "execution_count": 2,
   "metadata": {},
   "outputs": [
    {
     "ename": "FileNotFoundError",
     "evalue": "[Errno 2] No such file or directory: 'FlightDelays.csv'",
     "output_type": "error",
     "traceback": [
      "\u001b[1;31m---------------------------------------------------------------------------\u001b[0m",
      "\u001b[1;31mFileNotFoundError\u001b[0m                         Traceback (most recent call last)",
      "\u001b[1;32m<ipython-input-2-67f31ce62c04>\u001b[0m in \u001b[0;36m<module>\u001b[1;34m\u001b[0m\n\u001b[1;32m----> 1\u001b[1;33m \u001b[0mdelays_df\u001b[0m \u001b[1;33m=\u001b[0m \u001b[0mpd\u001b[0m\u001b[1;33m.\u001b[0m\u001b[0mread_csv\u001b[0m\u001b[1;33m(\u001b[0m\u001b[1;34m'FlightDelays.csv'\u001b[0m\u001b[1;33m)\u001b[0m\u001b[1;33m\u001b[0m\u001b[1;33m\u001b[0m\u001b[0m\n\u001b[0m\u001b[0;32m      2\u001b[0m \u001b[0mdelays_df\u001b[0m\u001b[1;33m.\u001b[0m\u001b[0mhead\u001b[0m\u001b[1;33m(\u001b[0m\u001b[1;33m)\u001b[0m\u001b[1;33m\u001b[0m\u001b[1;33m\u001b[0m\u001b[0m\n",
      "\u001b[1;32m~\\anaconda3\\lib\\site-packages\\pandas\\io\\parsers.py\u001b[0m in \u001b[0;36mread_csv\u001b[1;34m(filepath_or_buffer, sep, delimiter, header, names, index_col, usecols, squeeze, prefix, mangle_dupe_cols, dtype, engine, converters, true_values, false_values, skipinitialspace, skiprows, skipfooter, nrows, na_values, keep_default_na, na_filter, verbose, skip_blank_lines, parse_dates, infer_datetime_format, keep_date_col, date_parser, dayfirst, cache_dates, iterator, chunksize, compression, thousands, decimal, lineterminator, quotechar, quoting, doublequote, escapechar, comment, encoding, dialect, error_bad_lines, warn_bad_lines, delim_whitespace, low_memory, memory_map, float_precision, storage_options)\u001b[0m\n\u001b[0;32m    608\u001b[0m     \u001b[0mkwds\u001b[0m\u001b[1;33m.\u001b[0m\u001b[0mupdate\u001b[0m\u001b[1;33m(\u001b[0m\u001b[0mkwds_defaults\u001b[0m\u001b[1;33m)\u001b[0m\u001b[1;33m\u001b[0m\u001b[1;33m\u001b[0m\u001b[0m\n\u001b[0;32m    609\u001b[0m \u001b[1;33m\u001b[0m\u001b[0m\n\u001b[1;32m--> 610\u001b[1;33m     \u001b[1;32mreturn\u001b[0m \u001b[0m_read\u001b[0m\u001b[1;33m(\u001b[0m\u001b[0mfilepath_or_buffer\u001b[0m\u001b[1;33m,\u001b[0m \u001b[0mkwds\u001b[0m\u001b[1;33m)\u001b[0m\u001b[1;33m\u001b[0m\u001b[1;33m\u001b[0m\u001b[0m\n\u001b[0m\u001b[0;32m    611\u001b[0m \u001b[1;33m\u001b[0m\u001b[0m\n\u001b[0;32m    612\u001b[0m \u001b[1;33m\u001b[0m\u001b[0m\n",
      "\u001b[1;32m~\\anaconda3\\lib\\site-packages\\pandas\\io\\parsers.py\u001b[0m in \u001b[0;36m_read\u001b[1;34m(filepath_or_buffer, kwds)\u001b[0m\n\u001b[0;32m    460\u001b[0m \u001b[1;33m\u001b[0m\u001b[0m\n\u001b[0;32m    461\u001b[0m     \u001b[1;31m# Create the parser.\u001b[0m\u001b[1;33m\u001b[0m\u001b[1;33m\u001b[0m\u001b[1;33m\u001b[0m\u001b[0m\n\u001b[1;32m--> 462\u001b[1;33m     \u001b[0mparser\u001b[0m \u001b[1;33m=\u001b[0m \u001b[0mTextFileReader\u001b[0m\u001b[1;33m(\u001b[0m\u001b[0mfilepath_or_buffer\u001b[0m\u001b[1;33m,\u001b[0m \u001b[1;33m**\u001b[0m\u001b[0mkwds\u001b[0m\u001b[1;33m)\u001b[0m\u001b[1;33m\u001b[0m\u001b[1;33m\u001b[0m\u001b[0m\n\u001b[0m\u001b[0;32m    463\u001b[0m \u001b[1;33m\u001b[0m\u001b[0m\n\u001b[0;32m    464\u001b[0m     \u001b[1;32mif\u001b[0m \u001b[0mchunksize\u001b[0m \u001b[1;32mor\u001b[0m \u001b[0miterator\u001b[0m\u001b[1;33m:\u001b[0m\u001b[1;33m\u001b[0m\u001b[1;33m\u001b[0m\u001b[0m\n",
      "\u001b[1;32m~\\anaconda3\\lib\\site-packages\\pandas\\io\\parsers.py\u001b[0m in \u001b[0;36m__init__\u001b[1;34m(self, f, engine, **kwds)\u001b[0m\n\u001b[0;32m    817\u001b[0m             \u001b[0mself\u001b[0m\u001b[1;33m.\u001b[0m\u001b[0moptions\u001b[0m\u001b[1;33m[\u001b[0m\u001b[1;34m\"has_index_names\"\u001b[0m\u001b[1;33m]\u001b[0m \u001b[1;33m=\u001b[0m \u001b[0mkwds\u001b[0m\u001b[1;33m[\u001b[0m\u001b[1;34m\"has_index_names\"\u001b[0m\u001b[1;33m]\u001b[0m\u001b[1;33m\u001b[0m\u001b[1;33m\u001b[0m\u001b[0m\n\u001b[0;32m    818\u001b[0m \u001b[1;33m\u001b[0m\u001b[0m\n\u001b[1;32m--> 819\u001b[1;33m         \u001b[0mself\u001b[0m\u001b[1;33m.\u001b[0m\u001b[0m_engine\u001b[0m \u001b[1;33m=\u001b[0m \u001b[0mself\u001b[0m\u001b[1;33m.\u001b[0m\u001b[0m_make_engine\u001b[0m\u001b[1;33m(\u001b[0m\u001b[0mself\u001b[0m\u001b[1;33m.\u001b[0m\u001b[0mengine\u001b[0m\u001b[1;33m)\u001b[0m\u001b[1;33m\u001b[0m\u001b[1;33m\u001b[0m\u001b[0m\n\u001b[0m\u001b[0;32m    820\u001b[0m \u001b[1;33m\u001b[0m\u001b[0m\n\u001b[0;32m    821\u001b[0m     \u001b[1;32mdef\u001b[0m \u001b[0mclose\u001b[0m\u001b[1;33m(\u001b[0m\u001b[0mself\u001b[0m\u001b[1;33m)\u001b[0m\u001b[1;33m:\u001b[0m\u001b[1;33m\u001b[0m\u001b[1;33m\u001b[0m\u001b[0m\n",
      "\u001b[1;32m~\\anaconda3\\lib\\site-packages\\pandas\\io\\parsers.py\u001b[0m in \u001b[0;36m_make_engine\u001b[1;34m(self, engine)\u001b[0m\n\u001b[0;32m   1048\u001b[0m             )\n\u001b[0;32m   1049\u001b[0m         \u001b[1;31m# error: Too many arguments for \"ParserBase\"\u001b[0m\u001b[1;33m\u001b[0m\u001b[1;33m\u001b[0m\u001b[1;33m\u001b[0m\u001b[0m\n\u001b[1;32m-> 1050\u001b[1;33m         \u001b[1;32mreturn\u001b[0m \u001b[0mmapping\u001b[0m\u001b[1;33m[\u001b[0m\u001b[0mengine\u001b[0m\u001b[1;33m]\u001b[0m\u001b[1;33m(\u001b[0m\u001b[0mself\u001b[0m\u001b[1;33m.\u001b[0m\u001b[0mf\u001b[0m\u001b[1;33m,\u001b[0m \u001b[1;33m**\u001b[0m\u001b[0mself\u001b[0m\u001b[1;33m.\u001b[0m\u001b[0moptions\u001b[0m\u001b[1;33m)\u001b[0m  \u001b[1;31m# type: ignore[call-arg]\u001b[0m\u001b[1;33m\u001b[0m\u001b[1;33m\u001b[0m\u001b[0m\n\u001b[0m\u001b[0;32m   1051\u001b[0m \u001b[1;33m\u001b[0m\u001b[0m\n\u001b[0;32m   1052\u001b[0m     \u001b[1;32mdef\u001b[0m \u001b[0m_failover_to_python\u001b[0m\u001b[1;33m(\u001b[0m\u001b[0mself\u001b[0m\u001b[1;33m)\u001b[0m\u001b[1;33m:\u001b[0m\u001b[1;33m\u001b[0m\u001b[1;33m\u001b[0m\u001b[0m\n",
      "\u001b[1;32m~\\anaconda3\\lib\\site-packages\\pandas\\io\\parsers.py\u001b[0m in \u001b[0;36m__init__\u001b[1;34m(self, src, **kwds)\u001b[0m\n\u001b[0;32m   1865\u001b[0m \u001b[1;33m\u001b[0m\u001b[0m\n\u001b[0;32m   1866\u001b[0m         \u001b[1;31m# open handles\u001b[0m\u001b[1;33m\u001b[0m\u001b[1;33m\u001b[0m\u001b[1;33m\u001b[0m\u001b[0m\n\u001b[1;32m-> 1867\u001b[1;33m         \u001b[0mself\u001b[0m\u001b[1;33m.\u001b[0m\u001b[0m_open_handles\u001b[0m\u001b[1;33m(\u001b[0m\u001b[0msrc\u001b[0m\u001b[1;33m,\u001b[0m \u001b[0mkwds\u001b[0m\u001b[1;33m)\u001b[0m\u001b[1;33m\u001b[0m\u001b[1;33m\u001b[0m\u001b[0m\n\u001b[0m\u001b[0;32m   1868\u001b[0m         \u001b[1;32massert\u001b[0m \u001b[0mself\u001b[0m\u001b[1;33m.\u001b[0m\u001b[0mhandles\u001b[0m \u001b[1;32mis\u001b[0m \u001b[1;32mnot\u001b[0m \u001b[1;32mNone\u001b[0m\u001b[1;33m\u001b[0m\u001b[1;33m\u001b[0m\u001b[0m\n\u001b[0;32m   1869\u001b[0m         \u001b[1;32mfor\u001b[0m \u001b[0mkey\u001b[0m \u001b[1;32min\u001b[0m \u001b[1;33m(\u001b[0m\u001b[1;34m\"storage_options\"\u001b[0m\u001b[1;33m,\u001b[0m \u001b[1;34m\"encoding\"\u001b[0m\u001b[1;33m,\u001b[0m \u001b[1;34m\"memory_map\"\u001b[0m\u001b[1;33m,\u001b[0m \u001b[1;34m\"compression\"\u001b[0m\u001b[1;33m)\u001b[0m\u001b[1;33m:\u001b[0m\u001b[1;33m\u001b[0m\u001b[1;33m\u001b[0m\u001b[0m\n",
      "\u001b[1;32m~\\anaconda3\\lib\\site-packages\\pandas\\io\\parsers.py\u001b[0m in \u001b[0;36m_open_handles\u001b[1;34m(self, src, kwds)\u001b[0m\n\u001b[0;32m   1360\u001b[0m         \u001b[0mLet\u001b[0m \u001b[0mthe\u001b[0m \u001b[0mreaders\u001b[0m \u001b[0mopen\u001b[0m \u001b[0mIOHanldes\u001b[0m \u001b[0mafter\u001b[0m \u001b[0mthey\u001b[0m \u001b[0mare\u001b[0m \u001b[0mdone\u001b[0m \u001b[1;32mwith\u001b[0m \u001b[0mtheir\u001b[0m \u001b[0mpotential\u001b[0m \u001b[0mraises\u001b[0m\u001b[1;33m.\u001b[0m\u001b[1;33m\u001b[0m\u001b[1;33m\u001b[0m\u001b[0m\n\u001b[0;32m   1361\u001b[0m         \"\"\"\n\u001b[1;32m-> 1362\u001b[1;33m         self.handles = get_handle(\n\u001b[0m\u001b[0;32m   1363\u001b[0m             \u001b[0msrc\u001b[0m\u001b[1;33m,\u001b[0m\u001b[1;33m\u001b[0m\u001b[1;33m\u001b[0m\u001b[0m\n\u001b[0;32m   1364\u001b[0m             \u001b[1;34m\"r\"\u001b[0m\u001b[1;33m,\u001b[0m\u001b[1;33m\u001b[0m\u001b[1;33m\u001b[0m\u001b[0m\n",
      "\u001b[1;32m~\\anaconda3\\lib\\site-packages\\pandas\\io\\common.py\u001b[0m in \u001b[0;36mget_handle\u001b[1;34m(path_or_buf, mode, encoding, compression, memory_map, is_text, errors, storage_options)\u001b[0m\n\u001b[0;32m    640\u001b[0m                 \u001b[0merrors\u001b[0m \u001b[1;33m=\u001b[0m \u001b[1;34m\"replace\"\u001b[0m\u001b[1;33m\u001b[0m\u001b[1;33m\u001b[0m\u001b[0m\n\u001b[0;32m    641\u001b[0m             \u001b[1;31m# Encoding\u001b[0m\u001b[1;33m\u001b[0m\u001b[1;33m\u001b[0m\u001b[1;33m\u001b[0m\u001b[0m\n\u001b[1;32m--> 642\u001b[1;33m             handle = open(\n\u001b[0m\u001b[0;32m    643\u001b[0m                 \u001b[0mhandle\u001b[0m\u001b[1;33m,\u001b[0m\u001b[1;33m\u001b[0m\u001b[1;33m\u001b[0m\u001b[0m\n\u001b[0;32m    644\u001b[0m                 \u001b[0mioargs\u001b[0m\u001b[1;33m.\u001b[0m\u001b[0mmode\u001b[0m\u001b[1;33m,\u001b[0m\u001b[1;33m\u001b[0m\u001b[1;33m\u001b[0m\u001b[0m\n",
      "\u001b[1;31mFileNotFoundError\u001b[0m: [Errno 2] No such file or directory: 'FlightDelays.csv'"
     ]
    }
   ],
   "source": [
    "delays_df = pd.read_csv('FlightDelays.csv')\n",
    "delays_df.head()"
   ]
  },
  {
   "cell_type": "code",
   "execution_count": null,
   "metadata": {
    "scrolled": true
   },
   "outputs": [],
   "source": [
    "delays_df.info()"
   ]
  },
  {
   "cell_type": "code",
   "execution_count": null,
   "metadata": {
    "scrolled": true
   },
   "outputs": [],
   "source": [
    "#a) Create a binary outcome variable called is_delayed that takes the value 1 if flight_status = delayed and 0 otherwise.\n",
    "delays_df['is_delayed'] = [1 if status == 'delayed' else 0 for status in delays_df['flight_status']]\n",
    "delays_df.head()"
   ]
  },
  {
   "cell_type": "code",
   "execution_count": null,
   "metadata": {},
   "outputs": [],
   "source": [
    "#b) Transform day_of_week into a categorical variable. This step is required to create dummies for days. \n",
    "delays_df.day_of_week= delays_df.day_of_week.astype('category')"
   ]
  },
  {
   "cell_type": "markdown",
   "metadata": {},
   "source": [
    "c) Categorize departure_time into hourly intervals between 6:00 AM and 10:00 PM. \n",
    "Then, transform it into a categorical variable.create hourly bins departure time \n",
    "Some possible approaches:\n",
    "\n",
    "#Approach 1: rounds 1715 to 17. 1455 to 15. It may not be the best way, because it rounds 1445 to 14, but 1445 is actually closer to 15.\n",
    "\n",
    "#Approach 2: rounds 16:35 to 17, 16:25 to 16. The bin for hour 16 has values between 1531 and 1630\n",
    "\n",
    "#Approach 3: simply takes the first two digits to create bins. It rounds the departure times starting with 16 to 16."
   ]
  },
  {
   "cell_type": "code",
   "execution_count": null,
   "metadata": {
    "scrolled": true
   },
   "outputs": [],
   "source": [
    "#Approach 1: \n",
    "#delays_df.departure_time = [round(t / 100) for t in delays_df.departure_time]\n",
    "#Approach 2:\n",
    "#delays_df.departure_time = [(t//100) if t%100<=30 else (t//100)+1 for t in delays_df.departure_time]\n",
    "#Approach 3:\n",
    "delays_df.departure_time = delays_df.departure_time//100\n",
    "\n",
    "delays_df.departure_time = delays_df.departure_time.astype('category')\n",
    "delays_df.head()\n"
   ]
  },
  {
   "cell_type": "code",
   "execution_count": null,
   "metadata": {},
   "outputs": [],
   "source": [
    "predictors = ['day_of_week', 'departure_time', 'origin', 'destination', 'carrier']\n",
    "outcome = 'is_delayed'\n",
    "\n",
    "X_df = pd.get_dummies(delays_df[predictors], drop_first=True)\n",
    "X = sm.add_constant(X_df)\n",
    "y = delays_df[outcome]\n",
    "X.head()"
   ]
  },
  {
   "cell_type": "code",
   "execution_count": null,
   "metadata": {},
   "outputs": [],
   "source": [
    "X_train, X_test, y_train, y_test = train_test_split(X, y, test_size = 0.4, random_state = 11)"
   ]
  },
  {
   "cell_type": "code",
   "execution_count": null,
   "metadata": {},
   "outputs": [],
   "source": [
    "X.head()"
   ]
  },
  {
   "cell_type": "code",
   "execution_count": null,
   "metadata": {},
   "outputs": [],
   "source": [
    "X_features = list(deposit_df.columns)\n",
    "X_features.remove('is_subscribed')\n",
    "\n",
    "outcome = 'is_subscribed'\n",
    "\n",
    "X_df = pd.get_dummies(deposit_df[X_features], drop_first=True)\n",
    "X = sm.add_constant(X_df)\n",
    "y = deposit_df[outcome]\n",
    "X.head()\n"
   ]
  },
  {
   "cell_type": "code",
   "execution_count": 10,
   "metadata": {
    "scrolled": true
   },
   "outputs": [
    {
     "name": "stdout",
     "output_type": "stream",
     "text": [
      "Optimization terminated successfully.\n",
      "         Current function value: 0.465323\n",
      "         Iterations 7\n"
     ]
    },
    {
     "data": {
      "text/html": [
       "<table class=\"simpletable\">\n",
       "<tr>\n",
       "        <td>Model:</td>              <td>Logit</td>      <td>Pseudo R-squared:</td>    <td>0.087</td>  \n",
       "</tr>\n",
       "<tr>\n",
       "  <td>Dependent Variable:</td>    <td>is_delayed</td>          <td>AIC:</td>         <td>1294.4527</td>\n",
       "</tr>\n",
       "<tr>\n",
       "         <td>Date:</td>        <td>2021-11-19 23:43</td>       <td>BIC:</td>         <td>1465.5705</td>\n",
       "</tr>\n",
       "<tr>\n",
       "   <td>No. Observations:</td>        <td>1320</td>        <td>Log-Likelihood:</td>    <td>-614.23</td> \n",
       "</tr>\n",
       "<tr>\n",
       "       <td>Df Model:</td>             <td>32</td>            <td>LL-Null:</td>        <td>-672.82</td> \n",
       "</tr>\n",
       "<tr>\n",
       "     <td>Df Residuals:</td>          <td>1287</td>         <td>LLR p-value:</td>    <td>1.2031e-11</td>\n",
       "</tr>\n",
       "<tr>\n",
       "      <td>Converged:</td>           <td>1.0000</td>           <td>Scale:</td>         <td>1.0000</td>  \n",
       "</tr>\n",
       "<tr>\n",
       "    <td>No. Iterations:</td>        <td>7.0000</td>              <td></td>               <td></td>     \n",
       "</tr>\n",
       "</table>\n",
       "<table class=\"simpletable\">\n",
       "<tr>\n",
       "          <td></td>           <th>Coef.</th>  <th>Std.Err.</th>    <th>z</th>     <th>P>|z|</th> <th>[0.025</th>  <th>0.975]</th> \n",
       "</tr>\n",
       "<tr>\n",
       "  <th>const</th>             <td>0.4356</td>   <td>0.6635</td>  <td>0.6566</td>  <td>0.5114</td> <td>-0.8648</td> <td>1.7360</td> \n",
       "</tr>\n",
       "<tr>\n",
       "  <th>day_of_week_2</th>     <td>-0.3865</td>  <td>0.2475</td>  <td>-1.5614</td> <td>0.1184</td> <td>-0.8716</td> <td>0.0986</td> \n",
       "</tr>\n",
       "<tr>\n",
       "  <th>day_of_week_3</th>     <td>-0.5589</td>  <td>0.2531</td>  <td>-2.2084</td> <td>0.0272</td> <td>-1.0549</td> <td>-0.0629</td>\n",
       "</tr>\n",
       "<tr>\n",
       "  <th>day_of_week_4</th>     <td>-0.8843</td>  <td>0.2556</td>  <td>-3.4590</td> <td>0.0005</td> <td>-1.3854</td> <td>-0.3832</td>\n",
       "</tr>\n",
       "<tr>\n",
       "  <th>day_of_week_5</th>     <td>-0.6924</td>  <td>0.2435</td>  <td>-2.8433</td> <td>0.0045</td> <td>-1.1696</td> <td>-0.2151</td>\n",
       "</tr>\n",
       "<tr>\n",
       "  <th>day_of_week_6</th>     <td>-1.5455</td>  <td>0.3380</td>  <td>-4.5728</td> <td>0.0000</td> <td>-2.2079</td> <td>-0.8831</td>\n",
       "</tr>\n",
       "<tr>\n",
       "  <th>day_of_week_7</th>     <td>-0.3828</td>  <td>0.2657</td>  <td>-1.4409</td> <td>0.1496</td> <td>-0.9035</td> <td>0.1379</td> \n",
       "</tr>\n",
       "<tr>\n",
       "  <th>departure_time_7</th>  <td>-0.0138</td>  <td>0.4492</td>  <td>-0.0307</td> <td>0.9755</td> <td>-0.8941</td> <td>0.8665</td> \n",
       "</tr>\n",
       "<tr>\n",
       "  <th>departure_time_8</th>  <td>0.0674</td>   <td>0.4433</td>  <td>0.1520</td>  <td>0.8791</td> <td>-0.8015</td> <td>0.9363</td> \n",
       "</tr>\n",
       "<tr>\n",
       "  <th>departure_time_9</th>  <td>-0.0521</td>  <td>0.4905</td>  <td>-0.1061</td> <td>0.9155</td> <td>-1.0134</td> <td>0.9093</td> \n",
       "</tr>\n",
       "<tr>\n",
       "  <th>departure_time_10</th> <td>-1.0272</td>  <td>0.5928</td>  <td>-1.7328</td> <td>0.0831</td> <td>-2.1891</td> <td>0.1347</td> \n",
       "</tr>\n",
       "<tr>\n",
       "  <th>departure_time_11</th> <td>0.1371</td>   <td>0.5985</td>  <td>0.2291</td>  <td>0.8188</td> <td>-1.0359</td> <td>1.3101</td> \n",
       "</tr>\n",
       "<tr>\n",
       "  <th>departure_time_12</th> <td>-0.3281</td>  <td>0.4792</td>  <td>-0.6847</td> <td>0.4935</td> <td>-1.2673</td> <td>0.6111</td> \n",
       "</tr>\n",
       "<tr>\n",
       "  <th>departure_time_13</th> <td>-0.5114</td>  <td>0.4616</td>  <td>-1.1079</td> <td>0.2679</td> <td>-1.4161</td> <td>0.3933</td> \n",
       "</tr>\n",
       "<tr>\n",
       "  <th>departure_time_14</th> <td>0.7152</td>   <td>0.3831</td>  <td>1.8668</td>  <td>0.0619</td> <td>-0.0357</td> <td>1.4661</td> \n",
       "</tr>\n",
       "<tr>\n",
       "  <th>departure_time_15</th> <td>0.7468</td>   <td>0.4023</td>  <td>1.8560</td>  <td>0.0635</td> <td>-0.0418</td> <td>1.5353</td> \n",
       "</tr>\n",
       "<tr>\n",
       "  <th>departure_time_16</th> <td>0.3172</td>   <td>0.4014</td>  <td>0.7903</td>  <td>0.4294</td> <td>-0.4695</td> <td>1.1039</td> \n",
       "</tr>\n",
       "<tr>\n",
       "  <th>departure_time_17</th> <td>0.4187</td>   <td>0.3756</td>  <td>1.1147</td>  <td>0.2650</td> <td>-0.3175</td> <td>1.1548</td> \n",
       "</tr>\n",
       "<tr>\n",
       "  <th>departure_time_18</th> <td>0.5601</td>   <td>0.5018</td>  <td>1.1163</td>  <td>0.2643</td> <td>-0.4233</td> <td>1.5436</td> \n",
       "</tr>\n",
       "<tr>\n",
       "  <th>departure_time_19</th> <td>1.1427</td>   <td>0.4339</td>  <td>2.6339</td>  <td>0.0084</td> <td>0.2924</td>  <td>1.9930</td> \n",
       "</tr>\n",
       "<tr>\n",
       "  <th>departure_time_20</th> <td>0.9358</td>   <td>0.5541</td>  <td>1.6888</td>  <td>0.0913</td> <td>-0.1503</td> <td>2.0219</td> \n",
       "</tr>\n",
       "<tr>\n",
       "  <th>departure_time_21</th> <td>0.4473</td>   <td>0.4144</td>  <td>1.0796</td>  <td>0.2803</td> <td>-0.3648</td> <td>1.2595</td> \n",
       "</tr>\n",
       "<tr>\n",
       "  <th>origin_DCA</th>        <td>-0.8284</td>  <td>0.4102</td>  <td>-2.0198</td> <td>0.0434</td> <td>-1.6323</td> <td>-0.0246</td>\n",
       "</tr>\n",
       "<tr>\n",
       "  <th>origin_IAD</th>        <td>-0.5465</td>  <td>0.4042</td>  <td>-1.3521</td> <td>0.1763</td> <td>-1.3387</td> <td>0.2457</td> \n",
       "</tr>\n",
       "<tr>\n",
       "  <th>destination_JFK</th>   <td>-0.1677</td>  <td>0.3254</td>  <td>-0.5153</td> <td>0.6063</td> <td>-0.8055</td> <td>0.4701</td> \n",
       "</tr>\n",
       "<tr>\n",
       "  <th>destination_LGA</th>   <td>0.1883</td>   <td>0.3304</td>  <td>0.5697</td>  <td>0.5689</td> <td>-0.4594</td> <td>0.8359</td> \n",
       "</tr>\n",
       "<tr>\n",
       "  <th>carrier_DH</th>        <td>-0.6986</td>  <td>0.5634</td>  <td>-1.2401</td> <td>0.2149</td> <td>-1.8028</td> <td>0.4055</td> \n",
       "</tr>\n",
       "<tr>\n",
       "  <th>carrier_DL</th>        <td>-1.4335</td>  <td>0.5151</td>  <td>-2.7828</td> <td>0.0054</td> <td>-2.4431</td> <td>-0.4239</td>\n",
       "</tr>\n",
       "<tr>\n",
       "  <th>carrier_MQ</th>        <td>-0.4311</td>  <td>0.4944</td>  <td>-0.8720</td> <td>0.3832</td> <td>-1.4000</td> <td>0.5379</td> \n",
       "</tr>\n",
       "<tr>\n",
       "  <th>carrier_OH</th>        <td>-2.4591</td>  <td>0.9978</td>  <td>-2.4644</td> <td>0.0137</td> <td>-4.4148</td> <td>-0.5033</td>\n",
       "</tr>\n",
       "<tr>\n",
       "  <th>carrier_RU</th>        <td>-0.5520</td>  <td>0.4125</td>  <td>-1.3380</td> <td>0.1809</td> <td>-1.3605</td> <td>0.2566</td> \n",
       "</tr>\n",
       "<tr>\n",
       "  <th>carrier_UA</th>        <td>-0.6422</td>  <td>0.8977</td>  <td>-0.7154</td> <td>0.4744</td> <td>-2.4017</td> <td>1.1173</td> \n",
       "</tr>\n",
       "<tr>\n",
       "  <th>carrier_US</th>        <td>-1.7221</td>  <td>0.5237</td>  <td>-3.2883</td> <td>0.0010</td> <td>-2.7486</td> <td>-0.6957</td>\n",
       "</tr>\n",
       "</table>"
      ],
      "text/plain": [
       "<class 'statsmodels.iolib.summary2.Summary'>\n",
       "\"\"\"\n",
       "                         Results: Logit\n",
       "=================================================================\n",
       "Model:              Logit            Pseudo R-squared: 0.087     \n",
       "Dependent Variable: is_delayed       AIC:              1294.4527 \n",
       "Date:               2021-11-19 23:43 BIC:              1465.5705 \n",
       "No. Observations:   1320             Log-Likelihood:   -614.23   \n",
       "Df Model:           32               LL-Null:          -672.82   \n",
       "Df Residuals:       1287             LLR p-value:      1.2031e-11\n",
       "Converged:          1.0000           Scale:            1.0000    \n",
       "No. Iterations:     7.0000                                       \n",
       "-----------------------------------------------------------------\n",
       "                   Coef.  Std.Err.    z    P>|z|   [0.025  0.975]\n",
       "-----------------------------------------------------------------\n",
       "const              0.4356   0.6635  0.6566 0.5114 -0.8648  1.7360\n",
       "day_of_week_2     -0.3865   0.2475 -1.5614 0.1184 -0.8716  0.0986\n",
       "day_of_week_3     -0.5589   0.2531 -2.2084 0.0272 -1.0549 -0.0629\n",
       "day_of_week_4     -0.8843   0.2556 -3.4590 0.0005 -1.3854 -0.3832\n",
       "day_of_week_5     -0.6924   0.2435 -2.8433 0.0045 -1.1696 -0.2151\n",
       "day_of_week_6     -1.5455   0.3380 -4.5728 0.0000 -2.2079 -0.8831\n",
       "day_of_week_7     -0.3828   0.2657 -1.4409 0.1496 -0.9035  0.1379\n",
       "departure_time_7  -0.0138   0.4492 -0.0307 0.9755 -0.8941  0.8665\n",
       "departure_time_8   0.0674   0.4433  0.1520 0.8791 -0.8015  0.9363\n",
       "departure_time_9  -0.0521   0.4905 -0.1061 0.9155 -1.0134  0.9093\n",
       "departure_time_10 -1.0272   0.5928 -1.7328 0.0831 -2.1891  0.1347\n",
       "departure_time_11  0.1371   0.5985  0.2291 0.8188 -1.0359  1.3101\n",
       "departure_time_12 -0.3281   0.4792 -0.6847 0.4935 -1.2673  0.6111\n",
       "departure_time_13 -0.5114   0.4616 -1.1079 0.2679 -1.4161  0.3933\n",
       "departure_time_14  0.7152   0.3831  1.8668 0.0619 -0.0357  1.4661\n",
       "departure_time_15  0.7468   0.4023  1.8560 0.0635 -0.0418  1.5353\n",
       "departure_time_16  0.3172   0.4014  0.7903 0.4294 -0.4695  1.1039\n",
       "departure_time_17  0.4187   0.3756  1.1147 0.2650 -0.3175  1.1548\n",
       "departure_time_18  0.5601   0.5018  1.1163 0.2643 -0.4233  1.5436\n",
       "departure_time_19  1.1427   0.4339  2.6339 0.0084  0.2924  1.9930\n",
       "departure_time_20  0.9358   0.5541  1.6888 0.0913 -0.1503  2.0219\n",
       "departure_time_21  0.4473   0.4144  1.0796 0.2803 -0.3648  1.2595\n",
       "origin_DCA        -0.8284   0.4102 -2.0198 0.0434 -1.6323 -0.0246\n",
       "origin_IAD        -0.5465   0.4042 -1.3521 0.1763 -1.3387  0.2457\n",
       "destination_JFK   -0.1677   0.3254 -0.5153 0.6063 -0.8055  0.4701\n",
       "destination_LGA    0.1883   0.3304  0.5697 0.5689 -0.4594  0.8359\n",
       "carrier_DH        -0.6986   0.5634 -1.2401 0.2149 -1.8028  0.4055\n",
       "carrier_DL        -1.4335   0.5151 -2.7828 0.0054 -2.4431 -0.4239\n",
       "carrier_MQ        -0.4311   0.4944 -0.8720 0.3832 -1.4000  0.5379\n",
       "carrier_OH        -2.4591   0.9978 -2.4644 0.0137 -4.4148 -0.5033\n",
       "carrier_RU        -0.5520   0.4125 -1.3380 0.1809 -1.3605  0.2566\n",
       "carrier_UA        -0.6422   0.8977 -0.7154 0.4744 -2.4017  1.1173\n",
       "carrier_US        -1.7221   0.5237 -3.2883 0.0010 -2.7486 -0.6957\n",
       "=================================================================\n",
       "\n",
       "\"\"\""
      ]
     },
     "execution_count": 10,
     "metadata": {},
     "output_type": "execute_result"
    }
   ],
   "source": [
    "logit = sm.Logit(y_train, X_train)\n",
    "logit_model = logit.fit()\n",
    "logit_model.summary2()"
   ]
  },
  {
   "cell_type": "code",
   "execution_count": 11,
   "metadata": {},
   "outputs": [
    {
     "name": "stdout",
     "output_type": "stream",
     "text": [
      "Dropping departure_time_7 and running regression again because pvalue is: 0.9754995757140554\n",
      "Optimization terminated successfully.\n",
      "         Current function value: 0.465323\n",
      "         Iterations 7\n",
      "Dropping departure_time_9 and running regression again because pvalue is: 0.9175335078921891\n",
      "Optimization terminated successfully.\n",
      "         Current function value: 0.465327\n",
      "         Iterations 7\n",
      "Dropping departure_time_8 and running regression again because pvalue is: 0.8201775362104496\n",
      "Optimization terminated successfully.\n",
      "         Current function value: 0.465347\n",
      "         Iterations 7\n",
      "Dropping departure_time_11 and running regression again because pvalue is: 0.8003587937162892\n",
      "Optimization terminated successfully.\n",
      "         Current function value: 0.465371\n",
      "         Iterations 7\n",
      "Dropping destination_JFK and running regression again because pvalue is: 0.6007474745502226\n",
      "Optimization terminated successfully.\n",
      "         Current function value: 0.465474\n",
      "         Iterations 7\n",
      "Dropping departure_time_12 and running regression again because pvalue is: 0.3884431732756911\n",
      "Optimization terminated successfully.\n",
      "         Current function value: 0.465767\n",
      "         Iterations 7\n",
      "Dropping carrier_UA and running regression again because pvalue is: 0.40474028964846576\n",
      "Optimization terminated successfully.\n",
      "         Current function value: 0.466038\n",
      "         Iterations 7\n",
      "Dropping carrier_MQ and running regression again because pvalue is: 0.31576386810531865\n",
      "Optimization terminated successfully.\n",
      "         Current function value: 0.466415\n",
      "         Iterations 7\n",
      "Dropping carrier_RU and running regression again because pvalue is: 0.5201652254934515\n",
      "Optimization terminated successfully.\n",
      "         Current function value: 0.466573\n",
      "         Iterations 7\n",
      "Dropping carrier_DH and running regression again because pvalue is: 0.324697821798525\n",
      "Optimization terminated successfully.\n",
      "         Current function value: 0.466938\n",
      "         Iterations 7\n",
      "Dropping departure_time_16 and running regression again because pvalue is: 0.3716111403643152\n",
      "Optimization terminated successfully.\n",
      "         Current function value: 0.467233\n",
      "         Iterations 7\n",
      "Dropping destination_LGA and running regression again because pvalue is: 0.30536133392662823\n",
      "Optimization terminated successfully.\n",
      "         Current function value: 0.467629\n",
      "         Iterations 7\n",
      "Dropping departure_time_18 and running regression again because pvalue is: 0.28176093657006396\n",
      "Optimization terminated successfully.\n",
      "         Current function value: 0.468040\n",
      "         Iterations 7\n",
      "Dropping departure_time_21 and running regression again because pvalue is: 0.23401794170299628\n",
      "Optimization terminated successfully.\n",
      "         Current function value: 0.468557\n",
      "         Iterations 7\n",
      "Dropping day_of_week_7 and running regression again because pvalue is: 0.1532060381368812\n",
      "Optimization terminated successfully.\n",
      "         Current function value: 0.469337\n",
      "         Iterations 7\n",
      "Dropping day_of_week_2 and running regression again because pvalue is: 0.3638875475527116\n",
      "Optimization terminated successfully.\n",
      "         Current function value: 0.469652\n",
      "         Iterations 7\n",
      "Dropping day_of_week_3 and running regression again because pvalue is: 0.16715486303263494\n",
      "Optimization terminated successfully.\n",
      "         Current function value: 0.470393\n",
      "         Iterations 7\n",
      "Dropping departure_time_13 and running regression again because pvalue is: 0.11430736908793482\n",
      "Optimization terminated successfully.\n",
      "         Current function value: 0.471429\n",
      "         Iterations 7\n",
      "Dropping origin_DCA and running regression again because pvalue is: 0.07010510929836343\n",
      "Optimization terminated successfully.\n",
      "         Current function value: 0.472637\n",
      "         Iterations 7\n",
      "Dropping origin_IAD and running regression again because pvalue is: 0.63680469683336\n",
      "Optimization terminated successfully.\n",
      "         Current function value: 0.472722\n",
      "         Iterations 7\n",
      "Dropping departure_time_10 and running regression again because pvalue is: 0.09803129282045504\n",
      "Optimization terminated successfully.\n",
      "         Current function value: 0.473979\n",
      "         Iterations 6\n",
      "Dropping day_of_week_5 and running regression again because pvalue is: 0.06918468756439379\n",
      "Optimization terminated successfully.\n",
      "         Current function value: 0.475274\n",
      "         Iterations 6\n",
      "Dropping carrier_OH and running regression again because pvalue is: 0.06656495954245296\n",
      "Optimization terminated successfully.\n",
      "         Current function value: 0.476957\n",
      "         Iterations 6\n",
      "All p values less than 0.05\n",
      "Index(['day_of_week_4', 'day_of_week_6', 'departure_time_14',\n",
      "       'departure_time_15', 'departure_time_17', 'departure_time_19',\n",
      "       'departure_time_20', 'carrier_DL', 'carrier_US'],\n",
      "      dtype='object')\n",
      "Optimization terminated successfully.\n",
      "         Current function value: 0.476957\n",
      "         Iterations 6\n"
     ]
    },
    {
     "data": {
      "text/html": [
       "<table class=\"simpletable\">\n",
       "<tr>\n",
       "        <td>Model:</td>              <td>Logit</td>      <td>Pseudo R-squared:</td>    <td>0.064</td>  \n",
       "</tr>\n",
       "<tr>\n",
       "  <td>Dependent Variable:</td>    <td>is_delayed</td>          <td>AIC:</td>         <td>1279.1671</td>\n",
       "</tr>\n",
       "<tr>\n",
       "         <td>Date:</td>        <td>2021-11-19 23:43</td>       <td>BIC:</td>         <td>1331.0210</td>\n",
       "</tr>\n",
       "<tr>\n",
       "   <td>No. Observations:</td>        <td>1320</td>        <td>Log-Likelihood:</td>    <td>-629.58</td> \n",
       "</tr>\n",
       "<tr>\n",
       "       <td>Df Model:</td>              <td>9</td>            <td>LL-Null:</td>        <td>-672.82</td> \n",
       "</tr>\n",
       "<tr>\n",
       "     <td>Df Residuals:</td>          <td>1310</td>         <td>LLR p-value:</td>    <td>8.3015e-15</td>\n",
       "</tr>\n",
       "<tr>\n",
       "      <td>Converged:</td>           <td>1.0000</td>           <td>Scale:</td>         <td>1.0000</td>  \n",
       "</tr>\n",
       "<tr>\n",
       "    <td>No. Iterations:</td>        <td>6.0000</td>              <td></td>               <td></td>     \n",
       "</tr>\n",
       "</table>\n",
       "<table class=\"simpletable\">\n",
       "<tr>\n",
       "          <td></td>           <th>Coef.</th>  <th>Std.Err.</th>     <th>z</th>     <th>P>|z|</th> <th>[0.025</th>  <th>0.975]</th> \n",
       "</tr>\n",
       "<tr>\n",
       "  <th>const</th>             <td>-1.1612</td>  <td>0.1087</td>  <td>-10.6779</td> <td>0.0000</td> <td>-1.3743</td> <td>-0.9481</td>\n",
       "</tr>\n",
       "<tr>\n",
       "  <th>day_of_week_4</th>     <td>-0.4443</td>  <td>0.2012</td>   <td>-2.2081</td> <td>0.0272</td> <td>-0.8386</td> <td>-0.0499</td>\n",
       "</tr>\n",
       "<tr>\n",
       "  <th>day_of_week_6</th>     <td>-1.1288</td>  <td>0.2956</td>   <td>-3.8187</td> <td>0.0001</td> <td>-1.7081</td> <td>-0.5494</td>\n",
       "</tr>\n",
       "<tr>\n",
       "  <th>departure_time_14</th> <td>0.5928</td>   <td>0.2178</td>   <td>2.7222</td>  <td>0.0065</td> <td>0.1660</td>  <td>1.0196</td> \n",
       "</tr>\n",
       "<tr>\n",
       "  <th>departure_time_15</th> <td>0.6842</td>   <td>0.2526</td>   <td>2.7085</td>  <td>0.0068</td> <td>0.1891</td>  <td>1.1792</td> \n",
       "</tr>\n",
       "<tr>\n",
       "  <th>departure_time_17</th> <td>0.5183</td>   <td>0.2119</td>   <td>2.4460</td>  <td>0.0144</td> <td>0.1030</td>  <td>0.9336</td> \n",
       "</tr>\n",
       "<tr>\n",
       "  <th>departure_time_19</th> <td>1.2040</td>   <td>0.2915</td>   <td>4.1307</td>  <td>0.0000</td> <td>0.6327</td>  <td>1.7752</td> \n",
       "</tr>\n",
       "<tr>\n",
       "  <th>departure_time_20</th> <td>0.9461</td>   <td>0.4585</td>   <td>2.0636</td>  <td>0.0391</td> <td>0.0475</td>  <td>1.8448</td> \n",
       "</tr>\n",
       "<tr>\n",
       "  <th>carrier_DL</th>        <td>-0.9016</td>  <td>0.2175</td>   <td>-4.1449</td> <td>0.0000</td> <td>-1.3279</td> <td>-0.4753</td>\n",
       "</tr>\n",
       "<tr>\n",
       "  <th>carrier_US</th>        <td>-1.1432</td>  <td>0.2328</td>   <td>-4.9104</td> <td>0.0000</td> <td>-1.5995</td> <td>-0.6869</td>\n",
       "</tr>\n",
       "</table>"
      ],
      "text/plain": [
       "<class 'statsmodels.iolib.summary2.Summary'>\n",
       "\"\"\"\n",
       "                          Results: Logit\n",
       "==================================================================\n",
       "Model:               Logit            Pseudo R-squared: 0.064     \n",
       "Dependent Variable:  is_delayed       AIC:              1279.1671 \n",
       "Date:                2021-11-19 23:43 BIC:              1331.0210 \n",
       "No. Observations:    1320             Log-Likelihood:   -629.58   \n",
       "Df Model:            9                LL-Null:          -672.82   \n",
       "Df Residuals:        1310             LLR p-value:      8.3015e-15\n",
       "Converged:           1.0000           Scale:            1.0000    \n",
       "No. Iterations:      6.0000                                       \n",
       "------------------------------------------------------------------\n",
       "                   Coef.  Std.Err.    z     P>|z|   [0.025  0.975]\n",
       "------------------------------------------------------------------\n",
       "const             -1.1612   0.1087 -10.6779 0.0000 -1.3743 -0.9481\n",
       "day_of_week_4     -0.4443   0.2012  -2.2081 0.0272 -0.8386 -0.0499\n",
       "day_of_week_6     -1.1288   0.2956  -3.8187 0.0001 -1.7081 -0.5494\n",
       "departure_time_14  0.5928   0.2178   2.7222 0.0065  0.1660  1.0196\n",
       "departure_time_15  0.6842   0.2526   2.7085 0.0068  0.1891  1.1792\n",
       "departure_time_17  0.5183   0.2119   2.4460 0.0144  0.1030  0.9336\n",
       "departure_time_19  1.2040   0.2915   4.1307 0.0000  0.6327  1.7752\n",
       "departure_time_20  0.9461   0.4585   2.0636 0.0391  0.0475  1.8448\n",
       "carrier_DL        -0.9016   0.2175  -4.1449 0.0000 -1.3279 -0.4753\n",
       "carrier_US        -1.1432   0.2328  -4.9104 0.0000 -1.5995 -0.6869\n",
       "==================================================================\n",
       "\n",
       "\"\"\""
      ]
     },
     "execution_count": 11,
     "metadata": {},
     "output_type": "execute_result"
    }
   ],
   "source": [
    "def backward_elimination(model, y, X, features):\n",
    "    while True:\n",
    "        if max(model.pvalues[features]) > 0.05:\n",
    "            drop_variable = model.pvalues[model.pvalues == max(model.pvalues[features])]\n",
    "            print(\"Dropping \" + drop_variable.index[0] + \" and running regression again because pvalue is: \" + str(drop_variable[0]))\n",
    "            X = X.drop(columns = [drop_variable.index[0]])\n",
    "            features = features.drop(drop_variable.index[0])\n",
    "            model= sm.Logit(y, X).fit()\n",
    "        else:\n",
    "            print(\"All p values less than 0.05\")\n",
    "            return features\n",
    "            break;\n",
    "        \n",
    "significant_Features = backward_elimination(logit_model, y_train, X_train, X_df.columns)\n",
    "print(significant_Features)\n",
    "\n",
    "X_train = sm.add_constant(X_train[significant_Features])\n",
    "logit2 = sm.Logit(y_train, X_train)\n",
    "logit_model2 = logit2.fit()\n",
    "logit_model2.summary2()"
   ]
  },
  {
   "cell_type": "code",
   "execution_count": 12,
   "metadata": {
    "scrolled": true
   },
   "outputs": [
    {
     "data": {
      "text/html": [
       "<div>\n",
       "<style scoped>\n",
       "    .dataframe tbody tr th:only-of-type {\n",
       "        vertical-align: middle;\n",
       "    }\n",
       "\n",
       "    .dataframe tbody tr th {\n",
       "        vertical-align: top;\n",
       "    }\n",
       "\n",
       "    .dataframe thead th {\n",
       "        text-align: right;\n",
       "    }\n",
       "</style>\n",
       "<table border=\"1\" class=\"dataframe\">\n",
       "  <thead>\n",
       "    <tr style=\"text-align: right;\">\n",
       "      <th></th>\n",
       "      <th>actual</th>\n",
       "      <th>predicted_prob</th>\n",
       "      <th>predicted1</th>\n",
       "    </tr>\n",
       "  </thead>\n",
       "  <tbody>\n",
       "    <tr>\n",
       "      <th>908</th>\n",
       "      <td>1</td>\n",
       "      <td>0.344586</td>\n",
       "      <td>0</td>\n",
       "    </tr>\n",
       "    <tr>\n",
       "      <th>1974</th>\n",
       "      <td>0</td>\n",
       "      <td>0.238450</td>\n",
       "      <td>0</td>\n",
       "    </tr>\n",
       "    <tr>\n",
       "      <th>1009</th>\n",
       "      <td>0</td>\n",
       "      <td>0.238450</td>\n",
       "      <td>0</td>\n",
       "    </tr>\n",
       "    <tr>\n",
       "      <th>530</th>\n",
       "      <td>1</td>\n",
       "      <td>0.141541</td>\n",
       "      <td>0</td>\n",
       "    </tr>\n",
       "    <tr>\n",
       "      <th>1400</th>\n",
       "      <td>0</td>\n",
       "      <td>0.090758</td>\n",
       "      <td>0</td>\n",
       "    </tr>\n",
       "  </tbody>\n",
       "</table>\n",
       "</div>"
      ],
      "text/plain": [
       "      actual  predicted_prob  predicted1\n",
       "908        1        0.344586           0\n",
       "1974       0        0.238450           0\n",
       "1009       0        0.238450           0\n",
       "530        1        0.141541           0\n",
       "1400       0        0.090758           0"
      ]
     },
     "execution_count": 12,
     "metadata": {},
     "output_type": "execute_result"
    }
   ],
   "source": [
    "y_pred_df = pd.DataFrame( { \"actual\": y_test, \n",
    "                            \"predicted_prob\": logit_model2.predict( \n",
    "                        sm.add_constant(X_test[significant_Features] ) ) } )\n",
    "y_pred_df['predicted1'] = y_pred_df.predicted_prob.map(lambda x: 1 if x > 0.5 else 0)\n",
    "\n",
    "y_pred_df.head()"
   ]
  },
  {
   "cell_type": "code",
   "execution_count": 13,
   "metadata": {},
   "outputs": [],
   "source": [
    "def draw_cm(actual, predicted):\n",
    "    cm = metrics.confusion_matrix(actual, predicted, [1,0])\n",
    "    tp = cm[0][0]\n",
    "    fp = cm[1][0]\n",
    "    fn = cm[0][1]\n",
    "    tn = cm[1][1]\n",
    "    print('True positive = ', tp)\n",
    "    print('False positive = ' , fp)\n",
    "    print('False negative = ' , fn)\n",
    "    print('True negative = ', tn)\n",
    "    #or you can use the following to access above metrics: \n",
    "    #tn, fp, fn, tp = metrics.confusion_matrix(actual, predicted).ravel()\n",
    "    print('Accuracy = ', (tp+tn)/(tp+tn+fn+fp))\n",
    "    print('True positive rate = ', tp/(tp+fn))   \n",
    "    print('True negative rate = ', tn/(tn+fp))\n",
    "    print('False positive rate = ', fp/(tn+fp))\n",
    "    print('False negative rate = ', fn/(fn+tp))\n",
    "    \n",
    "    sn.heatmap(cm, annot=True,  fmt='.2f', \n",
    "               xticklabels = [\"Delayed\", \"Not delayed\"] , \n",
    "               yticklabels = [\"Delayed\", \"Not delayed\"] )\n",
    "    plt.ylabel('True label')\n",
    "    plt.xlabel('Predicted label')\n",
    "    plt.show()\n"
   ]
  },
  {
   "cell_type": "code",
   "execution_count": 14,
   "metadata": {
    "scrolled": true
   },
   "outputs": [
    {
     "name": "stdout",
     "output_type": "stream",
     "text": [
      "True positive =  13\n",
      "False positive =  18\n",
      "False negative =  142\n",
      "True negative =  708\n",
      "Accuracy =  0.8183881952326901\n",
      "True positive rate =  0.08387096774193549\n",
      "True negative rate =  0.9752066115702479\n",
      "False positive rate =  0.024793388429752067\n",
      "False negative rate =  0.9161290322580645\n"
     ]
    },
    {
     "name": "stderr",
     "output_type": "stream",
     "text": [
      "C:\\Users\\yasem\\anaconda3\\lib\\site-packages\\sklearn\\utils\\validation.py:67: FutureWarning: Pass labels=[1, 0] as keyword args. From version 0.25 passing these as positional arguments will result in an error\n",
      "  warnings.warn(\"Pass {} as keyword args. From version 0.25 \"\n"
     ]
    },
    {
     "data": {
      "image/png": "[encoded data removed]",
      "text/plain": [
       "<Figure size 432x288 with 2 Axes>"
      ]
     },
     "metadata": {
      "needs_background": "light"
     },
     "output_type": "display_data"
    }
   ],
   "source": [
    "draw_cm(y_pred_df.actual, y_pred_df.predicted1)"
   ]
  },
  {
   "cell_type": "code",
   "execution_count": 15,
   "metadata": {},
   "outputs": [],
   "source": [
    "def draw_roc( actual, probs ):\n",
    "    fpr, \\\n",
    "    tpr, \\\n",
    "    thresholds = metrics.roc_curve(actual, probs, drop_intermediate = False )\n",
    "    auc_score = metrics.roc_auc_score(actual, probs)\n",
    "    plt.figure(figsize=(8, 6))\n",
    "    plt.plot( fpr, tpr, label='ROC curve (area = %0.2f)' % auc_score )\n",
    "    plt.plot([0, 1], [0, 1], 'k--')\n",
    "    plt.xlim([0.0, 1.0])\n",
    "    plt.ylim([0.0, 1.05])\n",
    "    plt.xlabel('False Positive Rate')\n",
    "    plt.ylabel('True Positive Rate')\n",
    "    plt.legend(loc=\"lower right\")\n",
    "    plt.show()\n",
    "    return fpr, tpr, thresholds"
   ]
  },
  {
   "cell_type": "code",
   "execution_count": 16,
   "metadata": {},
   "outputs": [
    {
     "data": {
      "image/png": "[encoded data removed]",
      "text/plain": [
       "<Figure size 576x432 with 1 Axes>"
      ]
     },
     "metadata": {
      "needs_background": "light"
     },
     "output_type": "display_data"
    }
   ],
   "source": [
    "fpr, tpr, thresholds = draw_roc(y_pred_df.actual, y_pred_df.predicted_prob)"
   ]
  },
  {
   "cell_type": "code",
   "execution_count": 17,
   "metadata": {},
   "outputs": [
    {
     "data": {
      "text/plain": [
       "0.68"
      ]
     },
     "execution_count": 17,
     "metadata": {},
     "output_type": "execute_result"
    }
   ],
   "source": [
    "auc_score = metrics.roc_auc_score( y_pred_df.actual, y_pred_df.predicted_prob)\n",
    "round(float(auc_score),2)"
   ]
  },
  {
   "cell_type": "code",
   "execution_count": 18,
   "metadata": {},
   "outputs": [
    {
     "data": {
      "text/html": [
       "<div>\n",
       "<style scoped>\n",
       "    .dataframe tbody tr th:only-of-type {\n",
       "        vertical-align: middle;\n",
       "    }\n",
       "\n",
       "    .dataframe tbody tr th {\n",
       "        vertical-align: top;\n",
       "    }\n",
       "\n",
       "    .dataframe thead th {\n",
       "        text-align: right;\n",
       "    }\n",
       "</style>\n",
       "<table border=\"1\" class=\"dataframe\">\n",
       "  <thead>\n",
       "    <tr style=\"text-align: right;\">\n",
       "      <th></th>\n",
       "      <th>tpr</th>\n",
       "      <th>fpr</th>\n",
       "      <th>thresholds</th>\n",
       "      <th>diff</th>\n",
       "    </tr>\n",
       "  </thead>\n",
       "  <tbody>\n",
       "    <tr>\n",
       "      <th>16</th>\n",
       "      <td>0.806452</td>\n",
       "      <td>0.504132</td>\n",
       "      <td>0.186949</td>\n",
       "      <td>0.302319</td>\n",
       "    </tr>\n",
       "    <tr>\n",
       "      <th>13</th>\n",
       "      <td>0.774194</td>\n",
       "      <td>0.476584</td>\n",
       "      <td>0.213646</td>\n",
       "      <td>0.297610</td>\n",
       "    </tr>\n",
       "    <tr>\n",
       "      <th>12</th>\n",
       "      <td>0.767742</td>\n",
       "      <td>0.472452</td>\n",
       "      <td>0.238450</td>\n",
       "      <td>0.295290</td>\n",
       "    </tr>\n",
       "    <tr>\n",
       "      <th>17</th>\n",
       "      <td>0.806452</td>\n",
       "      <td>0.513774</td>\n",
       "      <td>0.175883</td>\n",
       "      <td>0.292678</td>\n",
       "    </tr>\n",
       "    <tr>\n",
       "      <th>14</th>\n",
       "      <td>0.774194</td>\n",
       "      <td>0.482094</td>\n",
       "      <td>0.204521</td>\n",
       "      <td>0.292100</td>\n",
       "    </tr>\n",
       "  </tbody>\n",
       "</table>\n",
       "</div>"
      ],
      "text/plain": [
       "         tpr       fpr  thresholds      diff\n",
       "16  0.806452  0.504132    0.186949  0.302319\n",
       "13  0.774194  0.476584    0.213646  0.297610\n",
       "12  0.767742  0.472452    0.238450  0.295290\n",
       "17  0.806452  0.513774    0.175883  0.292678\n",
       "14  0.774194  0.482094    0.204521  0.292100"
      ]
     },
     "execution_count": 18,
     "metadata": {},
     "output_type": "execute_result"
    }
   ],
   "source": [
    "tpr_fpr = pd.DataFrame( { 'tpr': tpr, \n",
    "                         'fpr': fpr, \n",
    "                         'thresholds': thresholds } )\n",
    "\n",
    "tpr_fpr['diff'] = tpr_fpr.tpr - tpr_fpr.fpr\n",
    "tpr_fpr.sort_values( 'diff', ascending = False )[0:5]"
   ]
  },
  {
   "cell_type": "code",
   "execution_count": 19,
   "metadata": {},
   "outputs": [
    {
     "data": {
      "text/html": [
       "<div>\n",
       "<style scoped>\n",
       "    .dataframe tbody tr th:only-of-type {\n",
       "        vertical-align: middle;\n",
       "    }\n",
       "\n",
       "    .dataframe tbody tr th {\n",
       "        vertical-align: top;\n",
       "    }\n",
       "\n",
       "    .dataframe thead th {\n",
       "        text-align: right;\n",
       "    }\n",
       "</style>\n",
       "<table border=\"1\" class=\"dataframe\">\n",
       "  <thead>\n",
       "    <tr style=\"text-align: right;\">\n",
       "      <th></th>\n",
       "      <th>actual</th>\n",
       "      <th>predicted_prob</th>\n",
       "      <th>predicted1</th>\n",
       "      <th>predicted2</th>\n",
       "    </tr>\n",
       "  </thead>\n",
       "  <tbody>\n",
       "    <tr>\n",
       "      <th>908</th>\n",
       "      <td>1</td>\n",
       "      <td>0.344586</td>\n",
       "      <td>0</td>\n",
       "      <td>1</td>\n",
       "    </tr>\n",
       "    <tr>\n",
       "      <th>1974</th>\n",
       "      <td>0</td>\n",
       "      <td>0.238450</td>\n",
       "      <td>0</td>\n",
       "      <td>1</td>\n",
       "    </tr>\n",
       "    <tr>\n",
       "      <th>1009</th>\n",
       "      <td>0</td>\n",
       "      <td>0.238450</td>\n",
       "      <td>0</td>\n",
       "      <td>1</td>\n",
       "    </tr>\n",
       "    <tr>\n",
       "      <th>530</th>\n",
       "      <td>1</td>\n",
       "      <td>0.141541</td>\n",
       "      <td>0</td>\n",
       "      <td>0</td>\n",
       "    </tr>\n",
       "    <tr>\n",
       "      <th>1400</th>\n",
       "      <td>0</td>\n",
       "      <td>0.090758</td>\n",
       "      <td>0</td>\n",
       "      <td>0</td>\n",
       "    </tr>\n",
       "  </tbody>\n",
       "</table>\n",
       "</div>"
      ],
      "text/plain": [
       "      actual  predicted_prob  predicted1  predicted2\n",
       "908        1        0.344586           0           1\n",
       "1974       0        0.238450           0           1\n",
       "1009       0        0.238450           0           1\n",
       "530        1        0.141541           0           0\n",
       "1400       0        0.090758           0           0"
      ]
     },
     "execution_count": 19,
     "metadata": {},
     "output_type": "execute_result"
    }
   ],
   "source": [
    "y_pred_df['predicted2'] = y_pred_df.predicted_prob.map( \n",
    "                                lambda x: 1 if x > 0.18 else 0)\n",
    "y_pred_df.head()"
   ]
  },
  {
   "cell_type": "code",
   "execution_count": 20,
   "metadata": {},
   "outputs": [
    {
     "name": "stdout",
     "output_type": "stream",
     "text": [
      "True positive =  125\n",
      "False positive =  366\n",
      "False negative =  30\n",
      "True negative =  360\n",
      "Accuracy =  0.5505107832009081\n",
      "True positive rate =  0.8064516129032258\n",
      "True negative rate =  0.49586776859504134\n",
      "False positive rate =  0.5041322314049587\n",
      "False negative rate =  0.1935483870967742\n"
     ]
    },
    {
     "name": "stderr",
     "output_type": "stream",
     "text": [
      "C:\\Users\\yasem\\anaconda3\\lib\\site-packages\\sklearn\\utils\\validation.py:67: FutureWarning: Pass labels=[1, 0] as keyword args. From version 0.25 passing these as positional arguments will result in an error\n",
      "  warnings.warn(\"Pass {} as keyword args. From version 0.25 \"\n"
     ]
    },
    {
     "data": {
      "image/png": "[encoded data removed]",
      "text/plain": [
       "<Figure size 432x288 with 2 Axes>"
      ]
     },
     "metadata": {
      "needs_background": "light"
     },
     "output_type": "display_data"
    }
   ],
   "source": [
    "draw_cm(y_pred_df.actual, y_pred_df.predicted2)"
   ]
  },
  {
   "cell_type": "code",
   "execution_count": 21,
   "metadata": {},
   "outputs": [],
   "source": [
    "#cost-based approach\n",
    "def get_total_cost( actual, predicted, cost_FPs, cost_FNs ):\n",
    "    cm = metrics.confusion_matrix( actual, predicted, [1,0] )\n",
    "    cm_mat = np.array( cm )\n",
    "    return cm_mat[0,1] * cost_FNs + cm_mat[1,0] * cost_FPs"
   ]
  },
  {
   "cell_type": "code",
   "execution_count": 22,
   "metadata": {},
   "outputs": [],
   "source": [
    "cost_df = pd.DataFrame( columns = ['prob', 'cost'])"
   ]
  },
  {
   "cell_type": "code",
   "execution_count": 23,
   "metadata": {},
   "outputs": [],
   "source": [
    "idx = 0\n",
    "\n",
    "## iterate cut-off probability values between 0.1 and 0.5\n",
    "for each_prob in range(10, 50):\n",
    "    cost = get_total_cost(y_pred_df.actual, \n",
    "                          y_pred_df.predicted_prob.map( \n",
    "            lambda x: 1 if x > (each_prob/100)  else 0), 1, 3 )\n",
    "    cost_df.loc[idx] = [(each_prob/100), cost] \n",
    "    idx += 1"
   ]
  },
  {
   "cell_type": "code",
   "execution_count": 24,
   "metadata": {},
   "outputs": [
    {
     "data": {
      "text/html": [
       "<div>\n",
       "<style scoped>\n",
       "    .dataframe tbody tr th:only-of-type {\n",
       "        vertical-align: middle;\n",
       "    }\n",
       "\n",
       "    .dataframe tbody tr th {\n",
       "        vertical-align: top;\n",
       "    }\n",
       "\n",
       "    .dataframe thead th {\n",
       "        text-align: right;\n",
       "    }\n",
       "</style>\n",
       "<table border=\"1\" class=\"dataframe\">\n",
       "  <thead>\n",
       "    <tr style=\"text-align: right;\">\n",
       "      <th></th>\n",
       "      <th>prob</th>\n",
       "      <th>cost</th>\n",
       "    </tr>\n",
       "  </thead>\n",
       "  <tbody>\n",
       "    <tr>\n",
       "      <th>21</th>\n",
       "      <td>0.31</td>\n",
       "      <td>394.0</td>\n",
       "    </tr>\n",
       "    <tr>\n",
       "      <th>22</th>\n",
       "      <td>0.32</td>\n",
       "      <td>394.0</td>\n",
       "    </tr>\n",
       "    <tr>\n",
       "      <th>23</th>\n",
       "      <td>0.33</td>\n",
       "      <td>394.0</td>\n",
       "    </tr>\n",
       "    <tr>\n",
       "      <th>24</th>\n",
       "      <td>0.34</td>\n",
       "      <td>394.0</td>\n",
       "    </tr>\n",
       "    <tr>\n",
       "      <th>20</th>\n",
       "      <td>0.30</td>\n",
       "      <td>394.0</td>\n",
       "    </tr>\n",
       "  </tbody>\n",
       "</table>\n",
       "</div>"
      ],
      "text/plain": [
       "    prob   cost\n",
       "21  0.31  394.0\n",
       "22  0.32  394.0\n",
       "23  0.33  394.0\n",
       "24  0.34  394.0\n",
       "20  0.30  394.0"
      ]
     },
     "execution_count": 24,
     "metadata": {},
     "output_type": "execute_result"
    }
   ],
   "source": [
    "cost_df.sort_values( 'cost', ascending = True )[0:5]"
   ]
  },
  {
   "cell_type": "code",
   "execution_count": 25,
   "metadata": {},
   "outputs": [],
   "source": [
    "y_pred_df['predicted_using_cost'] = y_pred_df.predicted_prob.map( \n",
    "    lambda x: 1 if x > 0.31 else 0)"
   ]
  },
  {
   "cell_type": "code",
   "execution_count": 26,
   "metadata": {},
   "outputs": [
    {
     "name": "stdout",
     "output_type": "stream",
     "text": [
      "True positive =  57\n",
      "False positive =  100\n",
      "False negative =  98\n",
      "True negative =  626\n",
      "Accuracy =  0.775255391600454\n",
      "True positive rate =  0.36774193548387096\n",
      "True negative rate =  0.8622589531680441\n",
      "False positive rate =  0.13774104683195593\n",
      "False negative rate =  0.632258064516129\n"
     ]
    },
    {
     "name": "stderr",
     "output_type": "stream",
     "text": [
      "C:\\Users\\yasem\\anaconda3\\lib\\site-packages\\sklearn\\utils\\validation.py:67: FutureWarning: Pass labels=[1, 0] as keyword args. From version 0.25 passing these as positional arguments will result in an error\n",
      "  warnings.warn(\"Pass {} as keyword args. From version 0.25 \"\n"
     ]
    },
    {
     "data": {
      "image/png": "[encoded data removed]",
      "text/plain": [
       "<Figure size 432x288 with 2 Axes>"
      ]
     },
     "metadata": {
      "needs_background": "light"
     },
     "output_type": "display_data"
    }
   ],
   "source": [
    "draw_cm( y_pred_df.actual, \n",
    "        y_pred_df.predicted_using_cost )"
   ]
  },
  {
   "cell_type": "code",
   "execution_count": null,
   "metadata": {},
   "outputs": [],
   "source": []
  },
  {
   "cell_type": "code",
   "execution_count": null,
   "metadata": {},
   "outputs": [],
   "source": []
  },
  {
   "cell_type": "code",
   "execution_count": null,
   "metadata": {},
   "outputs": [],
   "source": []
  },
  {
   "cell_type": "code",
   "execution_count": null,
   "metadata": {},
   "outputs": [],
   "source": []
  },
  {
   "cell_type": "code",
   "execution_count": null,
   "metadata": {},
   "outputs": [],
   "source": []
  },
  {
   "cell_type": "code",
   "execution_count": null,
   "metadata": {},
   "outputs": [],
   "source": []
  }
 ],
 "metadata": {
  "kernelspec": {
   "display_name": "Python 3",
   "language": "python",
   "name": "python3"
  },
  "language_info": {
   "codemirror_mode": {
    "name": "ipython",
    "version": 3
   },
   "file_extension": ".py",
   "mimetype": "text/x-python",
   "name": "python",
   "nbconvert_exporter": "python",
   "pygments_lexer": "ipython3",
   "version": "3.8.8"
  }
 },
 "nbformat": 4,
 "nbformat_minor": 4
}
